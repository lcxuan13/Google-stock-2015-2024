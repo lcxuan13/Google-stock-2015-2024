{
 "cells": [
  {
   "cell_type": "code",
   "execution_count": null,
   "id": "49439057-7675-48ed-9175-6999c49fba09",
   "metadata": {},
   "outputs": [],
   "source": []
  }
 ],
 "metadata": {
  "kernelspec": {
   "display_name": "",
   "name": ""
  },
  "language_info": {
   "name": ""
  }
 },
 "nbformat": 4,
 "nbformat_minor": 5
}
